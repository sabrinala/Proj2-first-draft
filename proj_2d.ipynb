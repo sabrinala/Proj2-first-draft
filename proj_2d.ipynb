{
 "cells": [
  {
   "cell_type": "markdown",
   "metadata": {},
   "source": [
    "## Scientific Question: How can we predict the phenotype of genetically modified Saccharomyces cerevisiae when mutations are introduced to the ADE2 gene with CRISPR Cas9?"
   ]
  },
  {
   "cell_type": "markdown",
   "metadata": {},
   "source": [
    "When the Cas9 protein is coupled with a guide RNA (gRNA), it is able to target specific genomic sequences and functions as an endonuclease, which causes double stranded cuts at the cut site. Mutations can be introduced within the proximity of the target sequence through repair by non-homologous end joining (NHEJ) or homology directed repair (HDR). This can be utilized to engineer specific mutations through one of the two repairs to alter gene function or expression. pML104 plasmid DNA can be used to transform Saccharomyces cerevisiae haploid yeast cells, and target the ADE2 gene. \n",
    "\n",
    "The wildtype yeast cells express white phenotypes in their colonies; however, if the ADE2 gene experiences a loss-of-function mutation, it will express a red phenotype. By transforming the yeast cells with the presence of the CRISPR-Cas9 complex, we can use the sequences of the mutated ADE2 gene to study the transformation efficiency, frequency rate of loss-of-function (LOF) mutations, and the specific mutations within the ADE2 genome that would cause this change in phenotype. "
   ]
  },
  {
   "cell_type": "markdown",
   "metadata": {},
   "source": [
    "## Scientific Hypothesis: If we are able to process the common mutations introduced by CRISPR Cas9 in the ADE2 gene in Saccharomyces cerevisiae, then predictions on the resulting phenotypes can be made based on the structure and functionality of the resulting mutant protein when compared to the wildtype AIR carboxylase protein."
   ]
  },
  {
   "cell_type": "markdown",
   "metadata": {},
   "source": [
    "CRISPR-Cas9 uses gRNA to target specific sites of the coding region of the ADE2 gene, and this portion of the coding region has been identified and labeled as the wildtype. Four mutants have been transformed using this method of homology directed repair, and the resulting targeted nucleotide sequences have been recorded. \n",
    "\n",
    "Mutant sequences are individually scored with the wildtype sequences and their sequences are translated into protein sequences. Nglview can be utilized to view the protein structure of a functional AIR carboxylase protein, and this can be compared to the structures of mutant proteins to determine if these mutations caused a loss-of-function of the ADE2 gene, resulting in a red phenotype. "
   ]
  },
  {
   "cell_type": "markdown",
   "metadata": {},
   "source": [
    "### Part 1: Load the packages"
   ]
  },
  {
   "cell_type": "markdown",
   "metadata": {},
   "source": [
    "Packages loaded included the following:\n",
    "- Bio: This package includes many subpackages that allows me to analyze my DNA sequences and use biological computations. \n",
    "- pairwise2: This allows for local and global alignments between two sequences. \n",
    "- Bio.Seq: This subpackage allows for reading sequences.\n",
    "- Seq: This allows for biological methods to be done on the string, such as translation. \n",
    "- Tabulate: This package allows columns to be aligned and to separate headers from data. \n",
    "- nglview: This package allows us to visualize proteins based on protein sequences."
   ]
  },
  {
   "cell_type": "code",
   "execution_count": 19,
   "metadata": {},
   "outputs": [
    {
     "name": "stdout",
     "output_type": "stream",
     "text": [
      "Collecting package metadata (current_repodata.json): done\n",
      "Solving environment: done\n",
      "\n",
      "# All requested packages already installed.\n",
      "\n",
      "\n",
      "Note: you may need to restart the kernel to use updated packages.\n"
     ]
    }
   ],
   "source": [
    "conda install -c conda-forge tabulate"
   ]
  },
  {
   "cell_type": "code",
   "execution_count": 21,
   "metadata": {},
   "outputs": [
    {
     "name": "stdout",
     "output_type": "stream",
     "text": [
      "Collecting package metadata (current_repodata.json): done\n",
      "Solving environment: done\n",
      "\n",
      "# All requested packages already installed.\n",
      "\n",
      "\n",
      "Note: you may need to restart the kernel to use updated packages.\n"
     ]
    }
   ],
   "source": [
    "conda install -c conda-forge nglview"
   ]
  },
  {
   "cell_type": "code",
   "execution_count": 9,
   "metadata": {},
   "outputs": [],
   "source": [
    "from Bio import pairwise2\n",
    "from Bio.Seq import Seq\n",
    "from tabulate import tabulate\n",
    "import nglview as nv"
   ]
  },
  {
   "cell_type": "markdown",
   "metadata": {},
   "source": [
    "### Part 2: Load data and perform bioinformatics analysis"
   ]
  },
  {
   "cell_type": "markdown",
   "metadata": {},
   "source": [
    "The wildtype sequence of the targeted area of the coding region of ADE2 is imported and stored as a sequence. The four other mutated sequences after CRISPR-Cas9 transformation and sequencing of the same region are also stored. Four alignments are scored between each of the four mutants and the wildtype. The four mutated sequences are then translated. This data is put into a table to compare the differences betweenn them.  "
   ]
  },
  {
   "cell_type": "code",
   "execution_count": 11,
   "metadata": {
    "scrolled": true
   },
   "outputs": [
    {
     "name": "stdout",
     "output_type": "stream",
     "text": [
      "  Mutant    Score  Protein Sequence\n",
      "--------  -------  --------------------------------------------------\n",
      "       1      147  X*YISYVMIDYYSYADKFLLLHDYEPGNTK*LTLADLLLRTKWTILWSIS\n",
      "       2      145  X*YISYVMIDYYSYADKFLLLHDYEPGNTK*FPLADLLLRTKWTILWSIS\n",
      "       3      146  X*YISYVMIDYYSYADKFLLLHGYEPGNTK*FPLADLLLRTKWTILWSIS\n",
      "       4      146  X*YISYVMIDYYSYADK*LLLHDYEPG*Y*VISSC*PFIKN*MDNIMEHF\n"
     ]
    }
   ],
   "source": [
    "wt = Seq(\"NNATGATACATTTCTTACGTCATGATTGATTATTACAGCTATGCTGACAAATGACTCTTGTTGCATGGCTACGAACCGGGTAATACTAAGTGATTGACTCTTGCTGACCTTTTATTAAGAACTAAATGGACAATATTATGGAGCATTTCA\")\n",
    "mut1 = Seq(\"NNATGATACATTTCTTACGTCATGATTGATTATTACAGCTATGCTGACAAATTCCTCTTGTTGCATGACTACGAACCGGGTAATACTAAGTGATTGACTCTTGCTGACCTTTTATTAAGAACTAAATGGACAATATTATGGAGCATTTCA\")\n",
    "mut2 = Seq(\"NNATGATACATTTCTTACGTCATGATTGATTATTACAGCTATGCTGACAAATTCCTCTTGTTGCATGACTACGAACCGGGTAATACTAAGTGATTTCCTCTTGCTGACCTTTTATTAAGAACTAAATGGACAATATTATGGAGCATTTCA\")\n",
    "mut3 = Seq(\"NNATGATACATTTCTTACGTCATGATTGATTATTACAGCTATGCTGACAAATTCCTCTTGTTGCATGGCTACGAACCGGGTAATACTAAGTGATTTCCTCTTGCTGACCTTTTATTAAGAACTAAATGGACAATATTATGGAGCATTTCA\")\n",
    "mut4 = Seq(\"NNATGATACATTTCTTACGTCATGATTGATTATTACAGCTATGCTGACAAATGACTCTTGTTGCATGACTACGAACCGGGGTAATACTAAGTGATTTCCTCTTGCTGACCTTTTATTAAGAACTAAATGGACAATATTATGGAGCATTTC\")\n",
    "\n",
    "alignments1 = pairwise2.align.localxx(wt, mut1, score_only=True)\n",
    "alignments2 = pairwise2.align.localxx(wt, mut2, score_only=True)\n",
    "alignments3 = pairwise2.align.localxx(wt, mut3, score_only=True)\n",
    "alignments4 = pairwise2.align.localxx(wt, mut4, score_only=True)\n",
    "\n",
    "\n",
    "prot_mut1 = mut1.translate()\n",
    "prot_mut2 = mut2.translate()\n",
    "prot_mut3 = mut3.translate()\n",
    "prot_mut4 = mut4.translate()\n",
    "\n",
    "data = [[1, alignments1, prot_mut1], [2, alignments2, prot_mut2], [3, alignments3, prot_mut3], [4, alignments4, prot_mut4]]\n",
    "print(tabulate(data, headers = [\"Mutant\", \"Score\", \"Protein Sequence\"]))"
   ]
  },
  {
   "cell_type": "markdown",
   "metadata": {},
   "source": [
    "### Part 3: Visualize and compare structure and functionality of proteins to determine phenotype"
   ]
  },
  {
   "cell_type": "markdown",
   "metadata": {},
   "source": [
    "Nglview is used to visualize the five different proteins to predict the phenotype of the transformed yeast colonies. The first protein is the functional AIR carboxylase protein that is produced by a functional ADE2 gene. **I'm not sure if it's possinle to make headers with each proteins within the visualization**. \n",
    "\n",
    "The following four proteins represents each of the mutated yeast colonies. **I'm having trouble creating the protein visualizations for the mutants with Swiss-Model since it doesn't allow me to put \"*\" into the target sequences & doesn't allow me to input protein sequences with less than 30 residues**\n",
    "\n",
    "360 view can be utilized to compare the structure of each protein and conclude the functionality of the ADE2 gene in each of the four transformations done. "
   ]
  },
  {
   "cell_type": "code",
   "execution_count": 20,
   "metadata": {},
   "outputs": [
    {
     "data": {
      "application/vnd.jupyter.widget-view+json": {
       "model_id": "52c233d874e54cfa948fe2c8452a05c5",
       "version_major": 2,
       "version_minor": 0
      },
      "text/plain": [
       "NGLWidget()"
      ]
     },
     "metadata": {},
     "output_type": "display_data"
    }
   ],
   "source": [
    "view = nv.show_pdbid(\"3rgg\")  \n",
    "view.add_representation('cartoon', selection='protein')\n",
    "\n",
    "# specify color\n",
    "view.add_cartoon(selection=\"protein\", color='blue')\n",
    "\n",
    "# specify residue\n",
    "view.add_licorice('ALA, GLU')\n",
    "\n",
    "view"
   ]
  },
  {
   "cell_type": "markdown",
   "metadata": {},
   "source": [
    "You may have to run the code above again to see the nglview widget. "
   ]
  },
  {
   "cell_type": "markdown",
   "metadata": {},
   "source": [
    "### Part 4: Analysis of the results"
   ]
  },
  {
   "cell_type": "markdown",
   "metadata": {},
   "source": [
    "I am unable to completely run my code because of the issues with the visualizations of the mutations. But I would assume that the proteins produced from the mutants would be fairly short and therefore nonfunctional since all of them introduce stop codons early on. I would conclude that based on the structure of these, the ADE2 gene is nonfunctional in all of them, resulting in a loss-of-function mutation caused by homology directed repair (HDR). I can also conclude that HDR occurs at a high efficacy rate in Saccharomyces cerevisiae as all four of target sequences successfully took up the plasmid and underwent indel mutations. My hypothesis would be correct if my code worked the way that I thought it would. "
   ]
  },
  {
   "cell_type": "code",
   "execution_count": null,
   "metadata": {},
   "outputs": [],
   "source": []
  }
 ],
 "metadata": {
  "kernelspec": {
   "display_name": "Python 3",
   "language": "python",
   "name": "python3"
  },
  "language_info": {
   "codemirror_mode": {
    "name": "ipython",
    "version": 3
   },
   "file_extension": ".py",
   "mimetype": "text/x-python",
   "name": "python",
   "nbconvert_exporter": "python",
   "pygments_lexer": "ipython3",
   "version": "3.8.5"
  }
 },
 "nbformat": 4,
 "nbformat_minor": 4
}
